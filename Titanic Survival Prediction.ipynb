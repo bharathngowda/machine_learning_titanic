{
 "cells": [
  {
   "cell_type": "markdown",
   "id": "robust-crime",
   "metadata": {},
   "source": [
    "# Problem Statement"
   ]
  },
  {
   "cell_type": "markdown",
   "id": "textile-reason",
   "metadata": {},
   "source": [
    "On April 15, 1912, during her maiden voyage, the widely considered “unsinkable” RMS Titanic sank after colliding with an iceberg. Unfortunately, there weren’t enough lifeboats for everyone onboard, resulting in the death of 1502 out of 2224 passengers and crew.\n",
    "\n",
    "While there was some element of luck involved in surviving, it seems some groups of people were more likely to survive than others.\n",
    "\n",
    "In this challenge, we ask you to build a predictive model that answers the question: “what sorts of people were more likely to survive?” using passenger data (ie name, age, gender, socio-economic class, etc)."
   ]
  },
  {
   "cell_type": "markdown",
   "id": "permanent-religious",
   "metadata": {},
   "source": [
    "# Importing Required Modules"
   ]
  },
  {
   "cell_type": "code",
   "execution_count": 1,
   "id": "characteristic-audience",
   "metadata": {},
   "outputs": [],
   "source": [
    "import pandas as pd\n",
    "import numpy as np\n",
    "import matplotlib.pyplot as plt\n",
    "import seaborn as sns\n",
    "import re\n",
    "from sklearn.model_selection import train_test_split\n",
    "from sklearn.preprocessing import StandardScaler, OneHotEncoder, RobustScaler,Normalizer,MinMaxScaler\n",
    "from sklearn.compose import ColumnTransformer\n",
    "from sklearn.model_selection import KFold, cross_validate,cross_val_score, GridSearchCV, RandomizedSearchCV\n",
    "from sklearn.pipeline import make_pipeline,Pipeline\n",
    "from sklearn.ensemble import RandomForestClassifier, BaggingClassifier\n",
    "from sklearn.feature_selection import SequentialFeatureSelector, SelectKBest, chi2, SelectFromModel,mutual_info_classif\n",
    "from sklearn.feature_selection import VarianceThreshold, RFE\n",
    "import sklearn.metrics as metrics\n",
    "from sklearn.linear_model import LogisticRegression\n",
    "from sklearn.discriminant_analysis import LinearDiscriminantAnalysis,QuadraticDiscriminantAnalysis\n",
    "from sklearn.neighbors import KNeighborsClassifier\n",
    "from sklearn.tree import DecisionTreeClassifier\n",
    "from sklearn.ensemble import RandomForestClassifier\n",
    "from sklearn.svm import SVC,LinearSVC\n",
    "import warnings\n",
    "warnings.filterwarnings(\"ignore\")\n",
    "import xgboost as xgb"
   ]
  },
  {
   "cell_type": "markdown",
   "id": "cultural-hungary",
   "metadata": {},
   "source": [
    "# Loading Training and Test Dataset"
   ]
  },
  {
   "cell_type": "code",
   "execution_count": 2,
   "id": "conservative-tuner",
   "metadata": {},
   "outputs": [],
   "source": [
    "train=pd.read_csv('Datasets\\\\Titanic\\\\train.csv')\n",
    "test=pd.read_csv('Datasets\\\\Titanic\\\\test.csv')"
   ]
  },
  {
   "cell_type": "code",
   "execution_count": 3,
   "id": "built-episode",
   "metadata": {},
   "outputs": [
    {
     "data": {
      "text/html": [
       "<div>\n",
       "<style scoped>\n",
       "    .dataframe tbody tr th:only-of-type {\n",
       "        vertical-align: middle;\n",
       "    }\n",
       "\n",
       "    .dataframe tbody tr th {\n",
       "        vertical-align: top;\n",
       "    }\n",
       "\n",
       "    .dataframe thead th {\n",
       "        text-align: right;\n",
       "    }\n",
       "</style>\n",
       "<table border=\"1\" class=\"dataframe\">\n",
       "  <thead>\n",
       "    <tr style=\"text-align: right;\">\n",
       "      <th></th>\n",
       "      <th>PassengerId</th>\n",
       "      <th>Survived</th>\n",
       "      <th>Pclass</th>\n",
       "      <th>Name</th>\n",
       "      <th>Sex</th>\n",
       "      <th>Age</th>\n",
       "      <th>SibSp</th>\n",
       "      <th>Parch</th>\n",
       "      <th>Ticket</th>\n",
       "      <th>Fare</th>\n",
       "      <th>Cabin</th>\n",
       "      <th>Embarked</th>\n",
       "    </tr>\n",
       "  </thead>\n",
       "  <tbody>\n",
       "    <tr>\n",
       "      <th>0</th>\n",
       "      <td>1</td>\n",
       "      <td>0</td>\n",
       "      <td>3</td>\n",
       "      <td>Braund, Mr. Owen Harris</td>\n",
       "      <td>male</td>\n",
       "      <td>22.0</td>\n",
       "      <td>1</td>\n",
       "      <td>0</td>\n",
       "      <td>A/5 21171</td>\n",
       "      <td>7.2500</td>\n",
       "      <td>NaN</td>\n",
       "      <td>S</td>\n",
       "    </tr>\n",
       "    <tr>\n",
       "      <th>1</th>\n",
       "      <td>2</td>\n",
       "      <td>1</td>\n",
       "      <td>1</td>\n",
       "      <td>Cumings, Mrs. John Bradley (Florence Briggs Th...</td>\n",
       "      <td>female</td>\n",
       "      <td>38.0</td>\n",
       "      <td>1</td>\n",
       "      <td>0</td>\n",
       "      <td>PC 17599</td>\n",
       "      <td>71.2833</td>\n",
       "      <td>C85</td>\n",
       "      <td>C</td>\n",
       "    </tr>\n",
       "    <tr>\n",
       "      <th>2</th>\n",
       "      <td>3</td>\n",
       "      <td>1</td>\n",
       "      <td>3</td>\n",
       "      <td>Heikkinen, Miss. Laina</td>\n",
       "      <td>female</td>\n",
       "      <td>26.0</td>\n",
       "      <td>0</td>\n",
       "      <td>0</td>\n",
       "      <td>STON/O2. 3101282</td>\n",
       "      <td>7.9250</td>\n",
       "      <td>NaN</td>\n",
       "      <td>S</td>\n",
       "    </tr>\n",
       "    <tr>\n",
       "      <th>3</th>\n",
       "      <td>4</td>\n",
       "      <td>1</td>\n",
       "      <td>1</td>\n",
       "      <td>Futrelle, Mrs. Jacques Heath (Lily May Peel)</td>\n",
       "      <td>female</td>\n",
       "      <td>35.0</td>\n",
       "      <td>1</td>\n",
       "      <td>0</td>\n",
       "      <td>113803</td>\n",
       "      <td>53.1000</td>\n",
       "      <td>C123</td>\n",
       "      <td>S</td>\n",
       "    </tr>\n",
       "    <tr>\n",
       "      <th>4</th>\n",
       "      <td>5</td>\n",
       "      <td>0</td>\n",
       "      <td>3</td>\n",
       "      <td>Allen, Mr. William Henry</td>\n",
       "      <td>male</td>\n",
       "      <td>35.0</td>\n",
       "      <td>0</td>\n",
       "      <td>0</td>\n",
       "      <td>373450</td>\n",
       "      <td>8.0500</td>\n",
       "      <td>NaN</td>\n",
       "      <td>S</td>\n",
       "    </tr>\n",
       "  </tbody>\n",
       "</table>\n",
       "</div>"
      ],
      "text/plain": [
       "   PassengerId  Survived  Pclass  \\\n",
       "0            1         0       3   \n",
       "1            2         1       1   \n",
       "2            3         1       3   \n",
       "3            4         1       1   \n",
       "4            5         0       3   \n",
       "\n",
       "                                                Name     Sex   Age  SibSp  \\\n",
       "0                            Braund, Mr. Owen Harris    male  22.0      1   \n",
       "1  Cumings, Mrs. John Bradley (Florence Briggs Th...  female  38.0      1   \n",
       "2                             Heikkinen, Miss. Laina  female  26.0      0   \n",
       "3       Futrelle, Mrs. Jacques Heath (Lily May Peel)  female  35.0      1   \n",
       "4                           Allen, Mr. William Henry    male  35.0      0   \n",
       "\n",
       "   Parch            Ticket     Fare Cabin Embarked  \n",
       "0      0         A/5 21171   7.2500   NaN        S  \n",
       "1      0          PC 17599  71.2833   C85        C  \n",
       "2      0  STON/O2. 3101282   7.9250   NaN        S  \n",
       "3      0            113803  53.1000  C123        S  \n",
       "4      0            373450   8.0500   NaN        S  "
      ]
     },
     "execution_count": 3,
     "metadata": {},
     "output_type": "execute_result"
    }
   ],
   "source": [
    "train.head()"
   ]
  },
  {
   "cell_type": "code",
   "execution_count": 4,
   "id": "extreme-thumb",
   "metadata": {},
   "outputs": [
    {
     "data": {
      "text/html": [
       "<div>\n",
       "<style scoped>\n",
       "    .dataframe tbody tr th:only-of-type {\n",
       "        vertical-align: middle;\n",
       "    }\n",
       "\n",
       "    .dataframe tbody tr th {\n",
       "        vertical-align: top;\n",
       "    }\n",
       "\n",
       "    .dataframe thead th {\n",
       "        text-align: right;\n",
       "    }\n",
       "</style>\n",
       "<table border=\"1\" class=\"dataframe\">\n",
       "  <thead>\n",
       "    <tr style=\"text-align: right;\">\n",
       "      <th></th>\n",
       "      <th>PassengerId</th>\n",
       "      <th>Pclass</th>\n",
       "      <th>Name</th>\n",
       "      <th>Sex</th>\n",
       "      <th>Age</th>\n",
       "      <th>SibSp</th>\n",
       "      <th>Parch</th>\n",
       "      <th>Ticket</th>\n",
       "      <th>Fare</th>\n",
       "      <th>Cabin</th>\n",
       "      <th>Embarked</th>\n",
       "    </tr>\n",
       "  </thead>\n",
       "  <tbody>\n",
       "    <tr>\n",
       "      <th>0</th>\n",
       "      <td>892</td>\n",
       "      <td>3</td>\n",
       "      <td>Kelly, Mr. James</td>\n",
       "      <td>male</td>\n",
       "      <td>34.5</td>\n",
       "      <td>0</td>\n",
       "      <td>0</td>\n",
       "      <td>330911</td>\n",
       "      <td>7.8292</td>\n",
       "      <td>NaN</td>\n",
       "      <td>Q</td>\n",
       "    </tr>\n",
       "    <tr>\n",
       "      <th>1</th>\n",
       "      <td>893</td>\n",
       "      <td>3</td>\n",
       "      <td>Wilkes, Mrs. James (Ellen Needs)</td>\n",
       "      <td>female</td>\n",
       "      <td>47.0</td>\n",
       "      <td>1</td>\n",
       "      <td>0</td>\n",
       "      <td>363272</td>\n",
       "      <td>7.0000</td>\n",
       "      <td>NaN</td>\n",
       "      <td>S</td>\n",
       "    </tr>\n",
       "    <tr>\n",
       "      <th>2</th>\n",
       "      <td>894</td>\n",
       "      <td>2</td>\n",
       "      <td>Myles, Mr. Thomas Francis</td>\n",
       "      <td>male</td>\n",
       "      <td>62.0</td>\n",
       "      <td>0</td>\n",
       "      <td>0</td>\n",
       "      <td>240276</td>\n",
       "      <td>9.6875</td>\n",
       "      <td>NaN</td>\n",
       "      <td>Q</td>\n",
       "    </tr>\n",
       "    <tr>\n",
       "      <th>3</th>\n",
       "      <td>895</td>\n",
       "      <td>3</td>\n",
       "      <td>Wirz, Mr. Albert</td>\n",
       "      <td>male</td>\n",
       "      <td>27.0</td>\n",
       "      <td>0</td>\n",
       "      <td>0</td>\n",
       "      <td>315154</td>\n",
       "      <td>8.6625</td>\n",
       "      <td>NaN</td>\n",
       "      <td>S</td>\n",
       "    </tr>\n",
       "    <tr>\n",
       "      <th>4</th>\n",
       "      <td>896</td>\n",
       "      <td>3</td>\n",
       "      <td>Hirvonen, Mrs. Alexander (Helga E Lindqvist)</td>\n",
       "      <td>female</td>\n",
       "      <td>22.0</td>\n",
       "      <td>1</td>\n",
       "      <td>1</td>\n",
       "      <td>3101298</td>\n",
       "      <td>12.2875</td>\n",
       "      <td>NaN</td>\n",
       "      <td>S</td>\n",
       "    </tr>\n",
       "  </tbody>\n",
       "</table>\n",
       "</div>"
      ],
      "text/plain": [
       "   PassengerId  Pclass                                          Name     Sex  \\\n",
       "0          892       3                              Kelly, Mr. James    male   \n",
       "1          893       3              Wilkes, Mrs. James (Ellen Needs)  female   \n",
       "2          894       2                     Myles, Mr. Thomas Francis    male   \n",
       "3          895       3                              Wirz, Mr. Albert    male   \n",
       "4          896       3  Hirvonen, Mrs. Alexander (Helga E Lindqvist)  female   \n",
       "\n",
       "    Age  SibSp  Parch   Ticket     Fare Cabin Embarked  \n",
       "0  34.5      0      0   330911   7.8292   NaN        Q  \n",
       "1  47.0      1      0   363272   7.0000   NaN        S  \n",
       "2  62.0      0      0   240276   9.6875   NaN        Q  \n",
       "3  27.0      0      0   315154   8.6625   NaN        S  \n",
       "4  22.0      1      1  3101298  12.2875   NaN        S  "
      ]
     },
     "execution_count": 4,
     "metadata": {},
     "output_type": "execute_result"
    }
   ],
   "source": [
    "test.head()"
   ]
  },
  {
   "cell_type": "code",
   "execution_count": 5,
   "id": "daily-slide",
   "metadata": {},
   "outputs": [
    {
     "data": {
      "image/png": "[encoded data removed]",
      "text/plain": [
       "<Figure size 1080x504 with 1 Axes>"
      ]
     },
     "metadata": {
      "needs_background": "light"
     },
     "output_type": "display_data"
    }
   ],
   "source": [
    "fig,ax=plt.subplots(figsize=(15,7))\n",
    "ax.bar(train.Survived.value_counts().index,train.Survived.value_counts().values)\n",
    "ax.set_xlabel('Survived')\n",
    "ax.set_ylabel('Count')\n",
    "ax.set_title('Train Data')\n",
    "ax.set_xticks([0,1])\n",
    "for p in ax.patches:\n",
    "    h = p.get_height()\n",
    "    x = p.get_x()+p.get_width()/2\n",
    "    ax.annotate(\"%g\" % p.get_height(), xy=(x,h), xytext=(0,2),textcoords=\"offset points\", ha=\"center\", va=\"bottom\")"
   ]
  },
  {
   "cell_type": "markdown",
   "id": "foster-gravity",
   "metadata": {},
   "source": [
    "# Data Cleaning"
   ]
  },
  {
   "cell_type": "code",
   "execution_count": 6,
   "id": "equal-glass",
   "metadata": {},
   "outputs": [
    {
     "name": "stdout",
     "output_type": "stream",
     "text": [
      "<class 'pandas.core.frame.DataFrame'>\n",
      "RangeIndex: 891 entries, 0 to 890\n",
      "Data columns (total 12 columns):\n",
      " #   Column       Non-Null Count  Dtype  \n",
      "---  ------       --------------  -----  \n",
      " 0   PassengerId  891 non-null    int64  \n",
      " 1   Survived     891 non-null    int64  \n",
      " 2   Pclass       891 non-null    int64  \n",
      " 3   Name         891 non-null    object \n",
      " 4   Sex          891 non-null    object \n",
      " 5   Age          714 non-null    float64\n",
      " 6   SibSp        891 non-null    int64  \n",
      " 7   Parch        891 non-null    int64  \n",
      " 8   Ticket       891 non-null    object \n",
      " 9   Fare         891 non-null    float64\n",
      " 10  Cabin        204 non-null    object \n",
      " 11  Embarked     889 non-null    object \n",
      "dtypes: float64(2), int64(5), object(5)\n",
      "memory usage: 83.7+ KB\n"
     ]
    }
   ],
   "source": [
    "train.info()"
   ]
  },
  {
   "cell_type": "code",
   "execution_count": 7,
   "id": "animal-kuwait",
   "metadata": {},
   "outputs": [
    {
     "name": "stdout",
     "output_type": "stream",
     "text": [
      "<class 'pandas.core.frame.DataFrame'>\n",
      "RangeIndex: 418 entries, 0 to 417\n",
      "Data columns (total 11 columns):\n",
      " #   Column       Non-Null Count  Dtype  \n",
      "---  ------       --------------  -----  \n",
      " 0   PassengerId  418 non-null    int64  \n",
      " 1   Pclass       418 non-null    int64  \n",
      " 2   Name         418 non-null    object \n",
      " 3   Sex          418 non-null    object \n",
      " 4   Age          332 non-null    float64\n",
      " 5   SibSp        418 non-null    int64  \n",
      " 6   Parch        418 non-null    int64  \n",
      " 7   Ticket       418 non-null    object \n",
      " 8   Fare         417 non-null    float64\n",
      " 9   Cabin        91 non-null     object \n",
      " 10  Embarked     418 non-null    object \n",
      "dtypes: float64(2), int64(4), object(5)\n",
      "memory usage: 36.0+ KB\n"
     ]
    }
   ],
   "source": [
    "test.info()"
   ]
  },
  {
   "cell_type": "code",
   "execution_count": 8,
   "id": "breathing-romantic",
   "metadata": {},
   "outputs": [
    {
     "data": {
      "text/plain": [
       "PassengerId      0\n",
       "Survived         0\n",
       "Pclass           0\n",
       "Name             0\n",
       "Sex              0\n",
       "Age            177\n",
       "SibSp            0\n",
       "Parch            0\n",
       "Ticket           0\n",
       "Fare             0\n",
       "Cabin          687\n",
       "Embarked         2\n",
       "dtype: int64"
      ]
     },
     "execution_count": 8,
     "metadata": {},
     "output_type": "execute_result"
    }
   ],
   "source": [
    "train.isnull().sum()"
   ]
  },
  {
   "cell_type": "code",
   "execution_count": 9,
   "id": "mysterious-setting",
   "metadata": {},
   "outputs": [
    {
     "data": {
      "text/plain": [
       "PassengerId      0\n",
       "Pclass           0\n",
       "Name             0\n",
       "Sex              0\n",
       "Age             86\n",
       "SibSp            0\n",
       "Parch            0\n",
       "Ticket           0\n",
       "Fare             1\n",
       "Cabin          327\n",
       "Embarked         0\n",
       "dtype: int64"
      ]
     },
     "execution_count": 9,
     "metadata": {},
     "output_type": "execute_result"
    }
   ],
   "source": [
    "test.isnull().sum()"
   ]
  },
  {
   "cell_type": "code",
   "execution_count": 10,
   "id": "fewer-contents",
   "metadata": {},
   "outputs": [
    {
     "data": {
      "text/html": [
       "<div>\n",
       "<style scoped>\n",
       "    .dataframe tbody tr th:only-of-type {\n",
       "        vertical-align: middle;\n",
       "    }\n",
       "\n",
       "    .dataframe tbody tr th {\n",
       "        vertical-align: top;\n",
       "    }\n",
       "\n",
       "    .dataframe thead th {\n",
       "        text-align: right;\n",
       "    }\n",
       "</style>\n",
       "<table border=\"1\" class=\"dataframe\">\n",
       "  <thead>\n",
       "    <tr style=\"text-align: right;\">\n",
       "      <th></th>\n",
       "      <th>PassengerId</th>\n",
       "      <th>Survived</th>\n",
       "      <th>Pclass</th>\n",
       "      <th>Age</th>\n",
       "      <th>SibSp</th>\n",
       "      <th>Parch</th>\n",
       "      <th>Fare</th>\n",
       "    </tr>\n",
       "  </thead>\n",
       "  <tbody>\n",
       "    <tr>\n",
       "      <th>count</th>\n",
       "      <td>891.000000</td>\n",
       "      <td>891.000000</td>\n",
       "      <td>891.000000</td>\n",
       "      <td>714.000000</td>\n",
       "      <td>891.000000</td>\n",
       "      <td>891.000000</td>\n",
       "      <td>891.000000</td>\n",
       "    </tr>\n",
       "    <tr>\n",
       "      <th>mean</th>\n",
       "      <td>446.000000</td>\n",
       "      <td>0.383838</td>\n",
       "      <td>2.308642</td>\n",
       "      <td>29.699118</td>\n",
       "      <td>0.523008</td>\n",
       "      <td>0.381594</td>\n",
       "      <td>32.204208</td>\n",
       "    </tr>\n",
       "    <tr>\n",
       "      <th>std</th>\n",
       "      <td>257.353842</td>\n",
       "      <td>0.486592</td>\n",
       "      <td>0.836071</td>\n",
       "      <td>14.526497</td>\n",
       "      <td>1.102743</td>\n",
       "      <td>0.806057</td>\n",
       "      <td>49.693429</td>\n",
       "    </tr>\n",
       "    <tr>\n",
       "      <th>min</th>\n",
       "      <td>1.000000</td>\n",
       "      <td>0.000000</td>\n",
       "      <td>1.000000</td>\n",
       "      <td>0.420000</td>\n",
       "      <td>0.000000</td>\n",
       "      <td>0.000000</td>\n",
       "      <td>0.000000</td>\n",
       "    </tr>\n",
       "    <tr>\n",
       "      <th>25%</th>\n",
       "      <td>223.500000</td>\n",
       "      <td>0.000000</td>\n",
       "      <td>2.000000</td>\n",
       "      <td>20.125000</td>\n",
       "      <td>0.000000</td>\n",
       "      <td>0.000000</td>\n",
       "      <td>7.910400</td>\n",
       "    </tr>\n",
       "    <tr>\n",
       "      <th>50%</th>\n",
       "      <td>446.000000</td>\n",
       "      <td>0.000000</td>\n",
       "      <td>3.000000</td>\n",
       "      <td>28.000000</td>\n",
       "      <td>0.000000</td>\n",
       "      <td>0.000000</td>\n",
       "      <td>14.454200</td>\n",
       "    </tr>\n",
       "    <tr>\n",
       "      <th>75%</th>\n",
       "      <td>668.500000</td>\n",
       "      <td>1.000000</td>\n",
       "      <td>3.000000</td>\n",
       "      <td>38.000000</td>\n",
       "      <td>1.000000</td>\n",
       "      <td>0.000000</td>\n",
       "      <td>31.000000</td>\n",
       "    </tr>\n",
       "    <tr>\n",
       "      <th>max</th>\n",
       "      <td>891.000000</td>\n",
       "      <td>1.000000</td>\n",
       "      <td>3.000000</td>\n",
       "      <td>80.000000</td>\n",
       "      <td>8.000000</td>\n",
       "      <td>6.000000</td>\n",
       "      <td>512.329200</td>\n",
       "    </tr>\n",
       "  </tbody>\n",
       "</table>\n",
       "</div>"
      ],
      "text/plain": [
       "       PassengerId    Survived      Pclass         Age       SibSp  \\\n",
       "count   891.000000  891.000000  891.000000  714.000000  891.000000   \n",
       "mean    446.000000    0.383838    2.308642   29.699118    0.523008   \n",
       "std     257.353842    0.486592    0.836071   14.526497    1.102743   \n",
       "min       1.000000    0.000000    1.000000    0.420000    0.000000   \n",
       "25%     223.500000    0.000000    2.000000   20.125000    0.000000   \n",
       "50%     446.000000    0.000000    3.000000   28.000000    0.000000   \n",
       "75%     668.500000    1.000000    3.000000   38.000000    1.000000   \n",
       "max     891.000000    1.000000    3.000000   80.000000    8.000000   \n",
       "\n",
       "            Parch        Fare  \n",
       "count  891.000000  891.000000  \n",
       "mean     0.381594   32.204208  \n",
       "std      0.806057   49.693429  \n",
       "min      0.000000    0.000000  \n",
       "25%      0.000000    7.910400  \n",
       "50%      0.000000   14.454200  \n",
       "75%      0.000000   31.000000  \n",
       "max      6.000000  512.329200  "
      ]
     },
     "execution_count": 10,
     "metadata": {},
     "output_type": "execute_result"
    }
   ],
   "source": [
    "train.describe()"
   ]
  },
  {
   "cell_type": "code",
   "execution_count": 11,
   "id": "improving-warren",
   "metadata": {},
   "outputs": [
    {
     "data": {
      "text/plain": [
       "G6             4\n",
       "C23 C25 C27    4\n",
       "B96 B98        4\n",
       "F2             3\n",
       "D              3\n",
       "              ..\n",
       "B73            1\n",
       "A20            1\n",
       "C91            1\n",
       "T              1\n",
       "C103           1\n",
       "Name: Cabin, Length: 147, dtype: int64"
      ]
     },
     "execution_count": 11,
     "metadata": {},
     "output_type": "execute_result"
    }
   ],
   "source": [
    "train.Cabin.value_counts()"
   ]
  },
  {
   "cell_type": "code",
   "execution_count": 12,
   "id": "interim-father",
   "metadata": {},
   "outputs": [
    {
     "name": "stdout",
     "output_type": "stream",
     "text": [
      "Pclass 1 -  ['C85' 'C123' 'E46' 'C103' 'A6' 'C23 C25 C27' 'B78' 'D33' 'B30' 'C52'\n",
      " 'B28' 'C83' 'E31' 'A5' 'D10 D12' 'D26' 'C110' 'B58 B60' 'D47' 'B86' 'C2'\n",
      " 'E33' 'B19' 'A7' 'C49' 'A32' 'B4' 'B80' 'A31' 'D36' 'D15' 'C93' 'C78'\n",
      " 'D35' 'C87' 'B77' 'E67' 'B94' 'C125' 'C99' 'C118' 'D7' 'A19' 'B49'\n",
      " 'C22 C26' 'C106' 'C65' 'E36' 'C54' 'B57 B59 B63 B66' 'C7' 'E34' 'C32'\n",
      " 'B18' 'C124' 'C91' 'E40' 'T' 'C128' 'D37' 'B35' 'E50' 'C82' 'B96 B98'\n",
      " 'E44' 'A34' 'C104' 'C111' 'C92' 'E38' 'D21' 'E12' 'E63' 'A14' 'B37' 'C30'\n",
      " 'D20' 'B79' 'E25' 'D46' 'B73' 'C95' 'B38' 'B39' 'B22' 'C86' 'C70' 'A16'\n",
      " 'C101' 'C68' 'A10' 'E68' 'B41' 'A20' 'D19' 'D50' 'D9' 'A23' 'B50' 'A26'\n",
      " 'D48' 'E58' 'C126' 'B71' 'B51 B53 B55' 'D49' 'B5' 'B20' 'C62 C64' 'E24'\n",
      " 'C90' 'C45' 'E8' 'B101' 'D45' 'C46' 'D30' 'D11' 'B3' 'D6' 'B82 B84' 'D17'\n",
      " 'A36' 'B102' 'B69' 'E49' 'C47' 'D28' 'E17' 'A24' 'C50' 'B42' 'C148']\n",
      "Pclass 2 -  ['D56' 'F33' 'E101' 'F2' 'F4' 'D' 'E77']\n",
      "Pclass 3 -  ['G6' 'F G73' 'F E69' 'E10' 'F G63' 'E121' 'F38']\n"
     ]
    }
   ],
   "source": [
    "print('Pclass 1 - ',train.loc[(train.Pclass==1) & (train.Cabin.isnull()==False),'Cabin'].unique())\n",
    "print('Pclass 2 - ',train.loc[(train.Pclass==2) & (train.Cabin.isnull()==False),'Cabin'].unique())\n",
    "print('Pclass 3 - ',train.loc[(train.Pclass==3) & (train.Cabin.isnull()==False),'Cabin'].unique())"
   ]
  },
  {
   "cell_type": "code",
   "execution_count": 13,
   "id": "initial-eugene",
   "metadata": {},
   "outputs": [
    {
     "data": {
      "text/plain": [
       "S    644\n",
       "C    168\n",
       "Q     77\n",
       "Name: Embarked, dtype: int64"
      ]
     },
     "execution_count": 13,
     "metadata": {},
     "output_type": "execute_result"
    }
   ],
   "source": [
    "train.Embarked.value_counts()"
   ]
  },
  {
   "cell_type": "code",
   "execution_count": 14,
   "id": "front-grace",
   "metadata": {},
   "outputs": [
    {
     "name": "stdout",
     "output_type": "stream",
     "text": [
      "Pclass 1 -  ['C' 'S' 'Q']\n",
      "Pclass 2 -  ['C' 'S' 'Q']\n",
      "Pclass 3 -  ['S' 'Q' 'C']\n"
     ]
    }
   ],
   "source": [
    "print('Pclass 1 - ',train.loc[(train.Pclass==1) & (train.Embarked.isnull()==False),'Embarked'].unique())\n",
    "print('Pclass 2 - ',train.loc[(train.Pclass==2) & (train.Embarked.isnull()==False),'Embarked'].unique())\n",
    "print('Pclass 3 - ',train.loc[(train.Pclass==3) & (train.Embarked.isnull()==False),'Embarked'].unique())"
   ]
  },
  {
   "cell_type": "code",
   "execution_count": 15,
   "id": "heavy-rapid",
   "metadata": {},
   "outputs": [],
   "source": [
    "train['Age']=train.Age.fillna(28) # Median Age (28)\n",
    "train['Embarked']=train.Embarked.fillna('S') # Most Frequent Value (S)\n",
    "train['Cabin']=train[['Cabin','Pclass']].apply(lambda x: 'G6' if (x['Pclass']==3) & (pd.isnull(x['Cabin'])) else 'D' \n",
    "                                               if (x['Pclass']==2) & (pd.isnull(x['Cabin'])) else 'C23 C25 C27'\n",
    "                                               if (x['Pclass']==1) & (pd.isnull(x['Cabin'])) else x['Cabin'],axis=1) # Most Frequent value in each class"
   ]
  },
  {
   "cell_type": "code",
   "execution_count": 16,
   "id": "adjusted-negative",
   "metadata": {},
   "outputs": [
    {
     "data": {
      "text/html": [
       "<div>\n",
       "<style scoped>\n",
       "    .dataframe tbody tr th:only-of-type {\n",
       "        vertical-align: middle;\n",
       "    }\n",
       "\n",
       "    .dataframe tbody tr th {\n",
       "        vertical-align: top;\n",
       "    }\n",
       "\n",
       "    .dataframe thead th {\n",
       "        text-align: right;\n",
       "    }\n",
       "</style>\n",
       "<table border=\"1\" class=\"dataframe\">\n",
       "  <thead>\n",
       "    <tr style=\"text-align: right;\">\n",
       "      <th></th>\n",
       "      <th>PassengerId</th>\n",
       "      <th>Pclass</th>\n",
       "      <th>Age</th>\n",
       "      <th>SibSp</th>\n",
       "      <th>Parch</th>\n",
       "      <th>Fare</th>\n",
       "    </tr>\n",
       "  </thead>\n",
       "  <tbody>\n",
       "    <tr>\n",
       "      <th>count</th>\n",
       "      <td>418.000000</td>\n",
       "      <td>418.000000</td>\n",
       "      <td>332.000000</td>\n",
       "      <td>418.000000</td>\n",
       "      <td>418.000000</td>\n",
       "      <td>417.000000</td>\n",
       "    </tr>\n",
       "    <tr>\n",
       "      <th>mean</th>\n",
       "      <td>1100.500000</td>\n",
       "      <td>2.265550</td>\n",
       "      <td>30.272590</td>\n",
       "      <td>0.447368</td>\n",
       "      <td>0.392344</td>\n",
       "      <td>35.627188</td>\n",
       "    </tr>\n",
       "    <tr>\n",
       "      <th>std</th>\n",
       "      <td>120.810458</td>\n",
       "      <td>0.841838</td>\n",
       "      <td>14.181209</td>\n",
       "      <td>0.896760</td>\n",
       "      <td>0.981429</td>\n",
       "      <td>55.907576</td>\n",
       "    </tr>\n",
       "    <tr>\n",
       "      <th>min</th>\n",
       "      <td>892.000000</td>\n",
       "      <td>1.000000</td>\n",
       "      <td>0.170000</td>\n",
       "      <td>0.000000</td>\n",
       "      <td>0.000000</td>\n",
       "      <td>0.000000</td>\n",
       "    </tr>\n",
       "    <tr>\n",
       "      <th>25%</th>\n",
       "      <td>996.250000</td>\n",
       "      <td>1.000000</td>\n",
       "      <td>21.000000</td>\n",
       "      <td>0.000000</td>\n",
       "      <td>0.000000</td>\n",
       "      <td>7.895800</td>\n",
       "    </tr>\n",
       "    <tr>\n",
       "      <th>50%</th>\n",
       "      <td>1100.500000</td>\n",
       "      <td>3.000000</td>\n",
       "      <td>27.000000</td>\n",
       "      <td>0.000000</td>\n",
       "      <td>0.000000</td>\n",
       "      <td>14.454200</td>\n",
       "    </tr>\n",
       "    <tr>\n",
       "      <th>75%</th>\n",
       "      <td>1204.750000</td>\n",
       "      <td>3.000000</td>\n",
       "      <td>39.000000</td>\n",
       "      <td>1.000000</td>\n",
       "      <td>0.000000</td>\n",
       "      <td>31.500000</td>\n",
       "    </tr>\n",
       "    <tr>\n",
       "      <th>max</th>\n",
       "      <td>1309.000000</td>\n",
       "      <td>3.000000</td>\n",
       "      <td>76.000000</td>\n",
       "      <td>8.000000</td>\n",
       "      <td>9.000000</td>\n",
       "      <td>512.329200</td>\n",
       "    </tr>\n",
       "  </tbody>\n",
       "</table>\n",
       "</div>"
      ],
      "text/plain": [
       "       PassengerId      Pclass         Age       SibSp       Parch        Fare\n",
       "count   418.000000  418.000000  332.000000  418.000000  418.000000  417.000000\n",
       "mean   1100.500000    2.265550   30.272590    0.447368    0.392344   35.627188\n",
       "std     120.810458    0.841838   14.181209    0.896760    0.981429   55.907576\n",
       "min     892.000000    1.000000    0.170000    0.000000    0.000000    0.000000\n",
       "25%     996.250000    1.000000   21.000000    0.000000    0.000000    7.895800\n",
       "50%    1100.500000    3.000000   27.000000    0.000000    0.000000   14.454200\n",
       "75%    1204.750000    3.000000   39.000000    1.000000    0.000000   31.500000\n",
       "max    1309.000000    3.000000   76.000000    8.000000    9.000000  512.329200"
      ]
     },
     "execution_count": 16,
     "metadata": {},
     "output_type": "execute_result"
    }
   ],
   "source": [
    "test.describe()"
   ]
  },
  {
   "cell_type": "code",
   "execution_count": 17,
   "id": "electronic-magnet",
   "metadata": {},
   "outputs": [],
   "source": [
    "test['Fare'].fillna(test['Fare'].median(),inplace=True)"
   ]
  },
  {
   "cell_type": "code",
   "execution_count": 18,
   "id": "alternative-township",
   "metadata": {},
   "outputs": [
    {
     "data": {
      "text/html": [
       "<div>\n",
       "<style scoped>\n",
       "    .dataframe tbody tr th:only-of-type {\n",
       "        vertical-align: middle;\n",
       "    }\n",
       "\n",
       "    .dataframe tbody tr th {\n",
       "        vertical-align: top;\n",
       "    }\n",
       "\n",
       "    .dataframe thead th {\n",
       "        text-align: right;\n",
       "    }\n",
       "</style>\n",
       "<table border=\"1\" class=\"dataframe\">\n",
       "  <thead>\n",
       "    <tr style=\"text-align: right;\">\n",
       "      <th></th>\n",
       "      <th>Cabin</th>\n",
       "    </tr>\n",
       "  </thead>\n",
       "  <tbody>\n",
       "    <tr>\n",
       "      <th>B57 B59 B63 B66</th>\n",
       "      <td>3</td>\n",
       "    </tr>\n",
       "    <tr>\n",
       "      <th>C116</th>\n",
       "      <td>2</td>\n",
       "    </tr>\n",
       "    <tr>\n",
       "      <th>C89</th>\n",
       "      <td>2</td>\n",
       "    </tr>\n",
       "    <tr>\n",
       "      <th>F4</th>\n",
       "      <td>2</td>\n",
       "    </tr>\n",
       "    <tr>\n",
       "      <th>C31</th>\n",
       "      <td>2</td>\n",
       "    </tr>\n",
       "    <tr>\n",
       "      <th>E34</th>\n",
       "      <td>2</td>\n",
       "    </tr>\n",
       "    <tr>\n",
       "      <th>C55 C57</th>\n",
       "      <td>2</td>\n",
       "    </tr>\n",
       "    <tr>\n",
       "      <th>C23 C25 C27</th>\n",
       "      <td>2</td>\n",
       "    </tr>\n",
       "    <tr>\n",
       "      <th>C6</th>\n",
       "      <td>2</td>\n",
       "    </tr>\n",
       "    <tr>\n",
       "      <th>C80</th>\n",
       "      <td>2</td>\n",
       "    </tr>\n",
       "    <tr>\n",
       "      <th>B45</th>\n",
       "      <td>2</td>\n",
       "    </tr>\n",
       "    <tr>\n",
       "      <th>C101</th>\n",
       "      <td>2</td>\n",
       "    </tr>\n",
       "    <tr>\n",
       "      <th>A34</th>\n",
       "      <td>2</td>\n",
       "    </tr>\n",
       "    <tr>\n",
       "      <th>C78</th>\n",
       "      <td>2</td>\n",
       "    </tr>\n",
       "  </tbody>\n",
       "</table>\n",
       "</div>"
      ],
      "text/plain": [
       "                 Cabin\n",
       "B57 B59 B63 B66      3\n",
       "C116                 2\n",
       "C89                  2\n",
       "F4                   2\n",
       "C31                  2\n",
       "E34                  2\n",
       "C55 C57              2\n",
       "C23 C25 C27          2\n",
       "C6                   2\n",
       "C80                  2\n",
       "B45                  2\n",
       "C101                 2\n",
       "A34                  2\n",
       "C78                  2"
      ]
     },
     "execution_count": 18,
     "metadata": {},
     "output_type": "execute_result"
    }
   ],
   "source": [
    "pd.DataFrame(test.Cabin.value_counts()).head(14)"
   ]
  },
  {
   "cell_type": "code",
   "execution_count": 19,
   "id": "vital-nancy",
   "metadata": {},
   "outputs": [
    {
     "name": "stdout",
     "output_type": "stream",
     "text": [
      "Pclass 1 -  ['B45' 'E31' 'B57 B59 B63 B66' 'B36' 'A21' 'C78' 'D34' 'D19' 'A9' 'D15'\n",
      " 'C31' 'C23 C25 C27' 'B61' 'C53' 'D43' 'C130' 'C132' 'C101' 'C55 C57'\n",
      " 'B71' 'C46' 'C116' 'A29' 'C6' 'C28' 'C51' 'E46' 'C54' 'C97' 'D22' 'B10'\n",
      " 'E45' 'E52' 'D30' 'B58 B60' 'E34' 'C62 C64' 'A11' 'B11' 'C80' 'C85' 'D37'\n",
      " 'C86' 'D21' 'C89' 'A34' 'B26' 'C22 C26' 'B69' 'C32' 'B78' 'A18' 'C106'\n",
      " 'B51 B53 B55' 'D10 D12' 'E60' 'E50' 'E39 E41' 'B52 B54 B56' 'C39' 'B24'\n",
      " 'D28' 'B41' 'C7' 'D40' 'C105']\n",
      "Pclass 2 -  ['F' 'F4' 'F33' 'D' 'F2' 'D38']\n",
      "Pclass 3 -  ['F G63' 'G6' 'F E46' 'F E57']\n"
     ]
    }
   ],
   "source": [
    "print('Pclass 1 - ',test.loc[(test.Pclass==1) & (test.Cabin.isnull()==False),'Cabin'].unique())\n",
    "print('Pclass 2 - ',test.loc[(test.Pclass==2) & (test.Cabin.isnull()==False),'Cabin'].unique())\n",
    "print('Pclass 3 - ',test.loc[(test.Pclass==3) & (test.Cabin.isnull()==False),'Cabin'].unique())"
   ]
  },
  {
   "cell_type": "code",
   "execution_count": 20,
   "id": "pacific-prefix",
   "metadata": {},
   "outputs": [],
   "source": [
    "test['Age']=test.Age.fillna(27) # Median Age (27)\n",
    "test['Cabin']=test[['Cabin','Pclass']].apply(lambda x: 'G6' if (x['Pclass']==3) & (pd.isnull(x['Cabin'])) else 'F4' \n",
    "                                               if (x['Pclass']==2) & (pd.isnull(x['Cabin'])) else 'B57 B59 B63 B66'\n",
    "                                               if (x['Pclass']==1) & (pd.isnull(x['Cabin'])) else x['Cabin'],axis=1) # Most Frequent value in each class"
   ]
  },
  {
   "cell_type": "code",
   "execution_count": 21,
   "id": "helpful-whale",
   "metadata": {},
   "outputs": [
    {
     "data": {
      "text/html": [
       "<div>\n",
       "<style scoped>\n",
       "    .dataframe tbody tr th:only-of-type {\n",
       "        vertical-align: middle;\n",
       "    }\n",
       "\n",
       "    .dataframe tbody tr th {\n",
       "        vertical-align: top;\n",
       "    }\n",
       "\n",
       "    .dataframe thead th {\n",
       "        text-align: right;\n",
       "    }\n",
       "</style>\n",
       "<table border=\"1\" class=\"dataframe\">\n",
       "  <thead>\n",
       "    <tr style=\"text-align: right;\">\n",
       "      <th></th>\n",
       "      <th>PassengerId</th>\n",
       "      <th>Survived</th>\n",
       "      <th>Pclass</th>\n",
       "      <th>Name</th>\n",
       "      <th>Sex</th>\n",
       "      <th>Age</th>\n",
       "      <th>SibSp</th>\n",
       "      <th>Parch</th>\n",
       "      <th>Ticket</th>\n",
       "      <th>Fare</th>\n",
       "      <th>Cabin</th>\n",
       "      <th>Embarked</th>\n",
       "      <th>familySize</th>\n",
       "      <th>familyType</th>\n",
       "    </tr>\n",
       "  </thead>\n",
       "  <tbody>\n",
       "    <tr>\n",
       "      <th>0</th>\n",
       "      <td>1</td>\n",
       "      <td>0</td>\n",
       "      <td>3</td>\n",
       "      <td>Braund, Mr. Owen Harris</td>\n",
       "      <td>male</td>\n",
       "      <td>22.0</td>\n",
       "      <td>1</td>\n",
       "      <td>0</td>\n",
       "      <td>A/5 21171</td>\n",
       "      <td>7.2500</td>\n",
       "      <td>G6</td>\n",
       "      <td>S</td>\n",
       "      <td>2</td>\n",
       "      <td>Small Family</td>\n",
       "    </tr>\n",
       "    <tr>\n",
       "      <th>1</th>\n",
       "      <td>2</td>\n",
       "      <td>1</td>\n",
       "      <td>1</td>\n",
       "      <td>Cumings, Mrs. John Bradley (Florence Briggs Th...</td>\n",
       "      <td>female</td>\n",
       "      <td>38.0</td>\n",
       "      <td>1</td>\n",
       "      <td>0</td>\n",
       "      <td>PC 17599</td>\n",
       "      <td>71.2833</td>\n",
       "      <td>C85</td>\n",
       "      <td>C</td>\n",
       "      <td>2</td>\n",
       "      <td>Small Family</td>\n",
       "    </tr>\n",
       "    <tr>\n",
       "      <th>2</th>\n",
       "      <td>3</td>\n",
       "      <td>1</td>\n",
       "      <td>3</td>\n",
       "      <td>Heikkinen, Miss. Laina</td>\n",
       "      <td>female</td>\n",
       "      <td>26.0</td>\n",
       "      <td>0</td>\n",
       "      <td>0</td>\n",
       "      <td>STON/O2. 3101282</td>\n",
       "      <td>7.9250</td>\n",
       "      <td>G6</td>\n",
       "      <td>S</td>\n",
       "      <td>1</td>\n",
       "      <td>Single</td>\n",
       "    </tr>\n",
       "    <tr>\n",
       "      <th>3</th>\n",
       "      <td>4</td>\n",
       "      <td>1</td>\n",
       "      <td>1</td>\n",
       "      <td>Futrelle, Mrs. Jacques Heath (Lily May Peel)</td>\n",
       "      <td>female</td>\n",
       "      <td>35.0</td>\n",
       "      <td>1</td>\n",
       "      <td>0</td>\n",
       "      <td>113803</td>\n",
       "      <td>53.1000</td>\n",
       "      <td>C123</td>\n",
       "      <td>S</td>\n",
       "      <td>2</td>\n",
       "      <td>Small Family</td>\n",
       "    </tr>\n",
       "    <tr>\n",
       "      <th>4</th>\n",
       "      <td>5</td>\n",
       "      <td>0</td>\n",
       "      <td>3</td>\n",
       "      <td>Allen, Mr. William Henry</td>\n",
       "      <td>male</td>\n",
       "      <td>35.0</td>\n",
       "      <td>0</td>\n",
       "      <td>0</td>\n",
       "      <td>373450</td>\n",
       "      <td>8.0500</td>\n",
       "      <td>G6</td>\n",
       "      <td>S</td>\n",
       "      <td>1</td>\n",
       "      <td>Single</td>\n",
       "    </tr>\n",
       "  </tbody>\n",
       "</table>\n",
       "</div>"
      ],
      "text/plain": [
       "   PassengerId  Survived  Pclass  \\\n",
       "0            1         0       3   \n",
       "1            2         1       1   \n",
       "2            3         1       3   \n",
       "3            4         1       1   \n",
       "4            5         0       3   \n",
       "\n",
       "                                                Name     Sex   Age  SibSp  \\\n",
       "0                            Braund, Mr. Owen Harris    male  22.0      1   \n",
       "1  Cumings, Mrs. John Bradley (Florence Briggs Th...  female  38.0      1   \n",
       "2                             Heikkinen, Miss. Laina  female  26.0      0   \n",
       "3       Futrelle, Mrs. Jacques Heath (Lily May Peel)  female  35.0      1   \n",
       "4                           Allen, Mr. William Henry    male  35.0      0   \n",
       "\n",
       "   Parch            Ticket     Fare Cabin Embarked  familySize    familyType  \n",
       "0      0         A/5 21171   7.2500    G6        S           2  Small Family  \n",
       "1      0          PC 17599  71.2833   C85        C           2  Small Family  \n",
       "2      0  STON/O2. 3101282   7.9250    G6        S           1        Single  \n",
       "3      0            113803  53.1000  C123        S           2  Small Family  \n",
       "4      0            373450   8.0500    G6        S           1        Single  "
      ]
     },
     "execution_count": 21,
     "metadata": {},
     "output_type": "execute_result"
    }
   ],
   "source": [
    "train['familySize']=train['Parch']+train['SibSp']+1\n",
    "train['familyType']=train.familySize.apply(lambda x: 'Single' if x ==1 else 'Small Family' if x <5 else 'Large Family')\n",
    "train.head()"
   ]
  },
  {
   "cell_type": "code",
   "execution_count": 22,
   "id": "spoken-veteran",
   "metadata": {},
   "outputs": [
    {
     "data": {
      "text/html": [
       "<div>\n",
       "<style scoped>\n",
       "    .dataframe tbody tr th:only-of-type {\n",
       "        vertical-align: middle;\n",
       "    }\n",
       "\n",
       "    .dataframe tbody tr th {\n",
       "        vertical-align: top;\n",
       "    }\n",
       "\n",
       "    .dataframe thead th {\n",
       "        text-align: right;\n",
       "    }\n",
       "</style>\n",
       "<table border=\"1\" class=\"dataframe\">\n",
       "  <thead>\n",
       "    <tr style=\"text-align: right;\">\n",
       "      <th></th>\n",
       "      <th>PassengerId</th>\n",
       "      <th>Pclass</th>\n",
       "      <th>Name</th>\n",
       "      <th>Sex</th>\n",
       "      <th>Age</th>\n",
       "      <th>SibSp</th>\n",
       "      <th>Parch</th>\n",
       "      <th>Ticket</th>\n",
       "      <th>Fare</th>\n",
       "      <th>Cabin</th>\n",
       "      <th>Embarked</th>\n",
       "      <th>familySize</th>\n",
       "      <th>familyType</th>\n",
       "    </tr>\n",
       "  </thead>\n",
       "  <tbody>\n",
       "    <tr>\n",
       "      <th>0</th>\n",
       "      <td>892</td>\n",
       "      <td>3</td>\n",
       "      <td>Kelly, Mr. James</td>\n",
       "      <td>male</td>\n",
       "      <td>34.5</td>\n",
       "      <td>0</td>\n",
       "      <td>0</td>\n",
       "      <td>330911</td>\n",
       "      <td>7.8292</td>\n",
       "      <td>G6</td>\n",
       "      <td>Q</td>\n",
       "      <td>1</td>\n",
       "      <td>Single</td>\n",
       "    </tr>\n",
       "    <tr>\n",
       "      <th>1</th>\n",
       "      <td>893</td>\n",
       "      <td>3</td>\n",
       "      <td>Wilkes, Mrs. James (Ellen Needs)</td>\n",
       "      <td>female</td>\n",
       "      <td>47.0</td>\n",
       "      <td>1</td>\n",
       "      <td>0</td>\n",
       "      <td>363272</td>\n",
       "      <td>7.0000</td>\n",
       "      <td>G6</td>\n",
       "      <td>S</td>\n",
       "      <td>2</td>\n",
       "      <td>Small Family</td>\n",
       "    </tr>\n",
       "    <tr>\n",
       "      <th>2</th>\n",
       "      <td>894</td>\n",
       "      <td>2</td>\n",
       "      <td>Myles, Mr. Thomas Francis</td>\n",
       "      <td>male</td>\n",
       "      <td>62.0</td>\n",
       "      <td>0</td>\n",
       "      <td>0</td>\n",
       "      <td>240276</td>\n",
       "      <td>9.6875</td>\n",
       "      <td>F4</td>\n",
       "      <td>Q</td>\n",
       "      <td>1</td>\n",
       "      <td>Single</td>\n",
       "    </tr>\n",
       "    <tr>\n",
       "      <th>3</th>\n",
       "      <td>895</td>\n",
       "      <td>3</td>\n",
       "      <td>Wirz, Mr. Albert</td>\n",
       "      <td>male</td>\n",
       "      <td>27.0</td>\n",
       "      <td>0</td>\n",
       "      <td>0</td>\n",
       "      <td>315154</td>\n",
       "      <td>8.6625</td>\n",
       "      <td>G6</td>\n",
       "      <td>S</td>\n",
       "      <td>1</td>\n",
       "      <td>Single</td>\n",
       "    </tr>\n",
       "    <tr>\n",
       "      <th>4</th>\n",
       "      <td>896</td>\n",
       "      <td>3</td>\n",
       "      <td>Hirvonen, Mrs. Alexander (Helga E Lindqvist)</td>\n",
       "      <td>female</td>\n",
       "      <td>22.0</td>\n",
       "      <td>1</td>\n",
       "      <td>1</td>\n",
       "      <td>3101298</td>\n",
       "      <td>12.2875</td>\n",
       "      <td>G6</td>\n",
       "      <td>S</td>\n",
       "      <td>3</td>\n",
       "      <td>Small Family</td>\n",
       "    </tr>\n",
       "  </tbody>\n",
       "</table>\n",
       "</div>"
      ],
      "text/plain": [
       "   PassengerId  Pclass                                          Name     Sex  \\\n",
       "0          892       3                              Kelly, Mr. James    male   \n",
       "1          893       3              Wilkes, Mrs. James (Ellen Needs)  female   \n",
       "2          894       2                     Myles, Mr. Thomas Francis    male   \n",
       "3          895       3                              Wirz, Mr. Albert    male   \n",
       "4          896       3  Hirvonen, Mrs. Alexander (Helga E Lindqvist)  female   \n",
       "\n",
       "    Age  SibSp  Parch   Ticket     Fare Cabin Embarked  familySize  \\\n",
       "0  34.5      0      0   330911   7.8292    G6        Q           1   \n",
       "1  47.0      1      0   363272   7.0000    G6        S           2   \n",
       "2  62.0      0      0   240276   9.6875    F4        Q           1   \n",
       "3  27.0      0      0   315154   8.6625    G6        S           1   \n",
       "4  22.0      1      1  3101298  12.2875    G6        S           3   \n",
       "\n",
       "     familyType  \n",
       "0        Single  \n",
       "1  Small Family  \n",
       "2        Single  \n",
       "3        Single  \n",
       "4  Small Family  "
      ]
     },
     "execution_count": 22,
     "metadata": {},
     "output_type": "execute_result"
    }
   ],
   "source": [
    "test['familySize']=test['Parch']+test['SibSp']+1\n",
    "test['familyType']=test.familySize.apply(lambda x: 'Single' if x ==1 else 'Small Family' if x <5 else 'Large Family')\n",
    "test.head()"
   ]
  },
  {
   "cell_type": "code",
   "execution_count": 23,
   "id": "civic-speaker",
   "metadata": {},
   "outputs": [
    {
     "data": {
      "text/html": [
       "<div>\n",
       "<style scoped>\n",
       "    .dataframe tbody tr th:only-of-type {\n",
       "        vertical-align: middle;\n",
       "    }\n",
       "\n",
       "    .dataframe tbody tr th {\n",
       "        vertical-align: top;\n",
       "    }\n",
       "\n",
       "    .dataframe thead th {\n",
       "        text-align: right;\n",
       "    }\n",
       "</style>\n",
       "<table border=\"1\" class=\"dataframe\">\n",
       "  <thead>\n",
       "    <tr style=\"text-align: right;\">\n",
       "      <th></th>\n",
       "      <th>PassengerId</th>\n",
       "      <th>Survived</th>\n",
       "      <th>Pclass</th>\n",
       "      <th>Name</th>\n",
       "      <th>Sex</th>\n",
       "      <th>Age</th>\n",
       "      <th>SibSp</th>\n",
       "      <th>Parch</th>\n",
       "      <th>Ticket</th>\n",
       "      <th>Fare</th>\n",
       "      <th>Cabin</th>\n",
       "      <th>Embarked</th>\n",
       "      <th>familySize</th>\n",
       "      <th>familyType</th>\n",
       "      <th>Title</th>\n",
       "    </tr>\n",
       "  </thead>\n",
       "  <tbody>\n",
       "    <tr>\n",
       "      <th>0</th>\n",
       "      <td>1</td>\n",
       "      <td>0</td>\n",
       "      <td>3</td>\n",
       "      <td>Braund, Mr. Owen Harris</td>\n",
       "      <td>male</td>\n",
       "      <td>22.0</td>\n",
       "      <td>1</td>\n",
       "      <td>0</td>\n",
       "      <td>A/5 21171</td>\n",
       "      <td>7.2500</td>\n",
       "      <td>G6</td>\n",
       "      <td>S</td>\n",
       "      <td>2</td>\n",
       "      <td>Small Family</td>\n",
       "      <td>Mr</td>\n",
       "    </tr>\n",
       "    <tr>\n",
       "      <th>1</th>\n",
       "      <td>2</td>\n",
       "      <td>1</td>\n",
       "      <td>1</td>\n",
       "      <td>Cumings, Mrs. John Bradley (Florence Briggs Th...</td>\n",
       "      <td>female</td>\n",
       "      <td>38.0</td>\n",
       "      <td>1</td>\n",
       "      <td>0</td>\n",
       "      <td>PC 17599</td>\n",
       "      <td>71.2833</td>\n",
       "      <td>C85</td>\n",
       "      <td>C</td>\n",
       "      <td>2</td>\n",
       "      <td>Small Family</td>\n",
       "      <td>Mrs</td>\n",
       "    </tr>\n",
       "    <tr>\n",
       "      <th>2</th>\n",
       "      <td>3</td>\n",
       "      <td>1</td>\n",
       "      <td>3</td>\n",
       "      <td>Heikkinen, Miss. Laina</td>\n",
       "      <td>female</td>\n",
       "      <td>26.0</td>\n",
       "      <td>0</td>\n",
       "      <td>0</td>\n",
       "      <td>STON/O2. 3101282</td>\n",
       "      <td>7.9250</td>\n",
       "      <td>G6</td>\n",
       "      <td>S</td>\n",
       "      <td>1</td>\n",
       "      <td>Single</td>\n",
       "      <td>Miss</td>\n",
       "    </tr>\n",
       "    <tr>\n",
       "      <th>3</th>\n",
       "      <td>4</td>\n",
       "      <td>1</td>\n",
       "      <td>1</td>\n",
       "      <td>Futrelle, Mrs. Jacques Heath (Lily May Peel)</td>\n",
       "      <td>female</td>\n",
       "      <td>35.0</td>\n",
       "      <td>1</td>\n",
       "      <td>0</td>\n",
       "      <td>113803</td>\n",
       "      <td>53.1000</td>\n",
       "      <td>C123</td>\n",
       "      <td>S</td>\n",
       "      <td>2</td>\n",
       "      <td>Small Family</td>\n",
       "      <td>Mrs</td>\n",
       "    </tr>\n",
       "    <tr>\n",
       "      <th>4</th>\n",
       "      <td>5</td>\n",
       "      <td>0</td>\n",
       "      <td>3</td>\n",
       "      <td>Allen, Mr. William Henry</td>\n",
       "      <td>male</td>\n",
       "      <td>35.0</td>\n",
       "      <td>0</td>\n",
       "      <td>0</td>\n",
       "      <td>373450</td>\n",
       "      <td>8.0500</td>\n",
       "      <td>G6</td>\n",
       "      <td>S</td>\n",
       "      <td>1</td>\n",
       "      <td>Single</td>\n",
       "      <td>Mr</td>\n",
       "    </tr>\n",
       "  </tbody>\n",
       "</table>\n",
       "</div>"
      ],
      "text/plain": [
       "   PassengerId  Survived  Pclass  \\\n",
       "0            1         0       3   \n",
       "1            2         1       1   \n",
       "2            3         1       3   \n",
       "3            4         1       1   \n",
       "4            5         0       3   \n",
       "\n",
       "                                                Name     Sex   Age  SibSp  \\\n",
       "0                            Braund, Mr. Owen Harris    male  22.0      1   \n",
       "1  Cumings, Mrs. John Bradley (Florence Briggs Th...  female  38.0      1   \n",
       "2                             Heikkinen, Miss. Laina  female  26.0      0   \n",
       "3       Futrelle, Mrs. Jacques Heath (Lily May Peel)  female  35.0      1   \n",
       "4                           Allen, Mr. William Henry    male  35.0      0   \n",
       "\n",
       "   Parch            Ticket     Fare Cabin Embarked  familySize    familyType  \\\n",
       "0      0         A/5 21171   7.2500    G6        S           2  Small Family   \n",
       "1      0          PC 17599  71.2833   C85        C           2  Small Family   \n",
       "2      0  STON/O2. 3101282   7.9250    G6        S           1        Single   \n",
       "3      0            113803  53.1000  C123        S           2  Small Family   \n",
       "4      0            373450   8.0500    G6        S           1        Single   \n",
       "\n",
       "  Title  \n",
       "0    Mr  \n",
       "1   Mrs  \n",
       "2  Miss  \n",
       "3   Mrs  \n",
       "4    Mr  "
      ]
     },
     "execution_count": 23,
     "metadata": {},
     "output_type": "execute_result"
    }
   ],
   "source": [
    "train['Title']=train.Name.apply(lambda x: re.split('[,.]',x)[1].strip())\n",
    "train['Title']=train['Title'].replace({'Capt':'Officer','Col':'Officer','Major':'Officer','Dr':'Officer','Rev':'Officer',\n",
    "                       'Jonkheer':'Royalty','Don':'Royalty','Sir':'Royalty','the Countess':'Royalty','Lady':'Royalty',\n",
    "                        'Mme':'Mrs','Mlle':'Miss','Ms':'Mrs'})\n",
    "train.head()"
   ]
  },
  {
   "cell_type": "code",
   "execution_count": 24,
   "id": "essential-uncle",
   "metadata": {},
   "outputs": [
    {
     "data": {
      "text/html": [
       "<div>\n",
       "<style scoped>\n",
       "    .dataframe tbody tr th:only-of-type {\n",
       "        vertical-align: middle;\n",
       "    }\n",
       "\n",
       "    .dataframe tbody tr th {\n",
       "        vertical-align: top;\n",
       "    }\n",
       "\n",
       "    .dataframe thead th {\n",
       "        text-align: right;\n",
       "    }\n",
       "</style>\n",
       "<table border=\"1\" class=\"dataframe\">\n",
       "  <thead>\n",
       "    <tr style=\"text-align: right;\">\n",
       "      <th></th>\n",
       "      <th>PassengerId</th>\n",
       "      <th>Pclass</th>\n",
       "      <th>Name</th>\n",
       "      <th>Sex</th>\n",
       "      <th>Age</th>\n",
       "      <th>SibSp</th>\n",
       "      <th>Parch</th>\n",
       "      <th>Ticket</th>\n",
       "      <th>Fare</th>\n",
       "      <th>Cabin</th>\n",
       "      <th>Embarked</th>\n",
       "      <th>familySize</th>\n",
       "      <th>familyType</th>\n",
       "      <th>Title</th>\n",
       "    </tr>\n",
       "  </thead>\n",
       "  <tbody>\n",
       "    <tr>\n",
       "      <th>0</th>\n",
       "      <td>892</td>\n",
       "      <td>3</td>\n",
       "      <td>Kelly, Mr. James</td>\n",
       "      <td>male</td>\n",
       "      <td>34.5</td>\n",
       "      <td>0</td>\n",
       "      <td>0</td>\n",
       "      <td>330911</td>\n",
       "      <td>7.8292</td>\n",
       "      <td>G6</td>\n",
       "      <td>Q</td>\n",
       "      <td>1</td>\n",
       "      <td>Single</td>\n",
       "      <td>Mr</td>\n",
       "    </tr>\n",
       "    <tr>\n",
       "      <th>1</th>\n",
       "      <td>893</td>\n",
       "      <td>3</td>\n",
       "      <td>Wilkes, Mrs. James (Ellen Needs)</td>\n",
       "      <td>female</td>\n",
       "      <td>47.0</td>\n",
       "      <td>1</td>\n",
       "      <td>0</td>\n",
       "      <td>363272</td>\n",
       "      <td>7.0000</td>\n",
       "      <td>G6</td>\n",
       "      <td>S</td>\n",
       "      <td>2</td>\n",
       "      <td>Small Family</td>\n",
       "      <td>Mrs</td>\n",
       "    </tr>\n",
       "    <tr>\n",
       "      <th>2</th>\n",
       "      <td>894</td>\n",
       "      <td>2</td>\n",
       "      <td>Myles, Mr. Thomas Francis</td>\n",
       "      <td>male</td>\n",
       "      <td>62.0</td>\n",
       "      <td>0</td>\n",
       "      <td>0</td>\n",
       "      <td>240276</td>\n",
       "      <td>9.6875</td>\n",
       "      <td>F4</td>\n",
       "      <td>Q</td>\n",
       "      <td>1</td>\n",
       "      <td>Single</td>\n",
       "      <td>Mr</td>\n",
       "    </tr>\n",
       "    <tr>\n",
       "      <th>3</th>\n",
       "      <td>895</td>\n",
       "      <td>3</td>\n",
       "      <td>Wirz, Mr. Albert</td>\n",
       "      <td>male</td>\n",
       "      <td>27.0</td>\n",
       "      <td>0</td>\n",
       "      <td>0</td>\n",
       "      <td>315154</td>\n",
       "      <td>8.6625</td>\n",
       "      <td>G6</td>\n",
       "      <td>S</td>\n",
       "      <td>1</td>\n",
       "      <td>Single</td>\n",
       "      <td>Mr</td>\n",
       "    </tr>\n",
       "    <tr>\n",
       "      <th>4</th>\n",
       "      <td>896</td>\n",
       "      <td>3</td>\n",
       "      <td>Hirvonen, Mrs. Alexander (Helga E Lindqvist)</td>\n",
       "      <td>female</td>\n",
       "      <td>22.0</td>\n",
       "      <td>1</td>\n",
       "      <td>1</td>\n",
       "      <td>3101298</td>\n",
       "      <td>12.2875</td>\n",
       "      <td>G6</td>\n",
       "      <td>S</td>\n",
       "      <td>3</td>\n",
       "      <td>Small Family</td>\n",
       "      <td>Mrs</td>\n",
       "    </tr>\n",
       "  </tbody>\n",
       "</table>\n",
       "</div>"
      ],
      "text/plain": [
       "   PassengerId  Pclass                                          Name     Sex  \\\n",
       "0          892       3                              Kelly, Mr. James    male   \n",
       "1          893       3              Wilkes, Mrs. James (Ellen Needs)  female   \n",
       "2          894       2                     Myles, Mr. Thomas Francis    male   \n",
       "3          895       3                              Wirz, Mr. Albert    male   \n",
       "4          896       3  Hirvonen, Mrs. Alexander (Helga E Lindqvist)  female   \n",
       "\n",
       "    Age  SibSp  Parch   Ticket     Fare Cabin Embarked  familySize  \\\n",
       "0  34.5      0      0   330911   7.8292    G6        Q           1   \n",
       "1  47.0      1      0   363272   7.0000    G6        S           2   \n",
       "2  62.0      0      0   240276   9.6875    F4        Q           1   \n",
       "3  27.0      0      0   315154   8.6625    G6        S           1   \n",
       "4  22.0      1      1  3101298  12.2875    G6        S           3   \n",
       "\n",
       "     familyType Title  \n",
       "0        Single    Mr  \n",
       "1  Small Family   Mrs  \n",
       "2        Single    Mr  \n",
       "3        Single    Mr  \n",
       "4  Small Family   Mrs  "
      ]
     },
     "execution_count": 24,
     "metadata": {},
     "output_type": "execute_result"
    }
   ],
   "source": [
    "test['Title']=test.Name.apply(lambda x: re.split('[,.]',x)[1].strip())\n",
    "test['Title']=test['Title'].replace({'Capt':'Officer','Col':'Officer','Major':'Officer','Dr':'Officer','Rev':'Officer',\n",
    "                       'Jonkheer':'Royalty','Don':'Royalty','Sir':'Royalty','the Countess':'Royalty','Lady':'Royalty',\n",
    "                        'Mme':'Mrs','Mlle':'Miss','Ms':'Mrs','Dona':'Royalty'})\n",
    "test.head()"
   ]
  },
  {
   "cell_type": "code",
   "execution_count": 25,
   "id": "consistent-locking",
   "metadata": {},
   "outputs": [],
   "source": [
    "train['Age']=round(train['Age'],0)\n",
    "train['Age']=train['Age'].astype('int64')\n",
    "train['Age_Bucket']=train.Age.apply(lambda x:0 if x<=20 else 1 if (x>20) & (x<=40)\n",
    "                                    else 2 if (x>40) & (x<=60) else 3)\n",
    "test['Age_Bucket']=test.Age.apply(lambda x:0 if x<=20 else 1 if (x>20) & (x<=40)\n",
    "                                    else 2 if (x>40) & (x<=60) else 3)\n",
    "train['LastName']=train.Name.apply(lambda x:re.split(',',x)[0])\n",
    "test['LastName']=test.Name.apply(lambda x:re.split(',',x)[0])\n",
    "train['fareperperson']=train[['Fare','familySize']].apply(lambda x: x['Fare']/x['familySize'],axis=1)\n",
    "test['fareperperson']=test[['Fare','familySize']].apply(lambda x: x['Fare']/x['familySize'],axis=1)"
   ]
  },
  {
   "cell_type": "markdown",
   "id": "internal-handbook",
   "metadata": {},
   "source": [
    "# Exploratory Data Analysis"
   ]
  },
  {
   "cell_type": "code",
   "execution_count": 26,
   "id": "overall-share",
   "metadata": {},
   "outputs": [
    {
     "data": {
      "image/png": "[encoded data removed]",
      "text/plain": [
       "<Figure size 1080x504 with 1 Axes>"
      ]
     },
     "metadata": {
      "needs_background": "light"
     },
     "output_type": "display_data"
    }
   ],
   "source": [
    "survival_based_on_sex=pd.DataFrame(train.groupby(['Survived','Sex']).count()['PassengerId'])\n",
    "width=.35\n",
    "x=np.arange(len(survival_based_on_sex.loc[0].index))\n",
    "fig,ax=plt.subplots(figsize=(15,7))\n",
    "rects1 = ax.bar(x - width/2, [i for i in survival_based_on_sex.loc[0].PassengerId], width, label='Not Survived')\n",
    "rects2 = ax.bar(x + width/2, [i for i in survival_based_on_sex.loc[1].PassengerId], width, label='Survived')\n",
    "ax.set_xticks(x)\n",
    "ax.set_xticklabels(survival_based_on_sex.loc[0].index)\n",
    "ax.legend()\n",
    "ax.set_title('Sex vs Survival')\n",
    "for p in ax.patches:\n",
    "    h = p.get_height()\n",
    "    x = p.get_x()+p.get_width()/2\n",
    "    ax.annotate(\"%g\" % p.get_height(), xy=(x,h), xytext=(0,2),textcoords=\"offset points\", ha=\"center\", va=\"bottom\")"
   ]
  },
  {
   "cell_type": "code",
   "execution_count": 27,
   "id": "white-thermal",
   "metadata": {},
   "outputs": [
    {
     "data": {
      "image/png": "[encoded data removed]",
      "text/plain": [
       "<Figure size 1080x504 with 1 Axes>"
      ]
     },
     "metadata": {
      "needs_background": "light"
     },
     "output_type": "display_data"
    }
   ],
   "source": [
    "bins = [0,10,20,30,40,50,60,70,80]\n",
    "groups = train.groupby(['Survived',pd.cut(train.Age, bins)])\n",
    "group=groups.PassengerId.count()\n",
    "\n",
    "width=.35\n",
    "x=np.arange(8)\n",
    "fig,ax=plt.subplots(figsize=(15,7))\n",
    "rects1 = ax.bar(x - width/2, group.loc[0].values, width, label='Not Survived')\n",
    "rects2 = ax.bar(x + width/2, group.loc[1].values, width, label='Survived')\n",
    "ax.set_xticks(x)\n",
    "ax.set_xticklabels([10,20,30,40,50,60,70,80])\n",
    "ax.legend()\n",
    "ax.set_title('Age vs Survival')\n",
    "for p in ax.patches:\n",
    "    h = p.get_height()\n",
    "    x = p.get_x()+p.get_width()/2\n",
    "    ax.annotate(\"%g\" % p.get_height(), xy=(x,h), xytext=(0,2),textcoords=\"offset points\", ha=\"center\", va=\"bottom\")"
   ]
  },
  {
   "cell_type": "code",
   "execution_count": 28,
   "id": "pretty-annual",
   "metadata": {},
   "outputs": [
    {
     "data": {
      "image/png": "[encoded data removed]",
      "text/plain": [
       "<Figure size 1080x504 with 1 Axes>"
      ]
     },
     "metadata": {
      "needs_background": "light"
     },
     "output_type": "display_data"
    }
   ],
   "source": [
    "survival_based_on_lastname=pd.DataFrame(train.groupby(['Survived','LastName']).count()['PassengerId'])\n",
    "survival_based_on_lastname=survival_based_on_lastname.loc[survival_based_on_lastname.PassengerId>3]\n",
    "survival_based_on_lastname=survival_based_on_lastname.reindex(\n",
    "    pd.MultiIndex.from_product([survival_based_on_lastname.index.get_level_values(0).unique(),\n",
    "                               survival_based_on_lastname.index.get_level_values(1).unique()],\n",
    "                              names=['Survived','LastName'])).fillna(0)\n",
    "width=.35\n",
    "x=np.arange(len(survival_based_on_lastname.loc[0].index))\n",
    "fig,ax=plt.subplots(figsize=(15,7))\n",
    "rects1 = ax.bar(x - width/2, [i for i in survival_based_on_lastname.loc[0].PassengerId], width, label='Not Survived')\n",
    "rects2 = ax.bar(x + width/2, [i for i in survival_based_on_lastname.loc[1].PassengerId], width, label='Survived')\n",
    "ax.set_xticks(x)\n",
    "ax.set_xticklabels(survival_based_on_lastname.loc[0].index)\n",
    "ax.legend()\n",
    "ax.set_title('Last Name vs Survival')\n",
    "for p in ax.patches:\n",
    "    h = p.get_height()\n",
    "    x = p.get_x()+p.get_width()/2\n",
    "    ax.annotate(\"%g\" % p.get_height(), xy=(x,h), xytext=(0,2),textcoords=\"offset points\", ha=\"center\", va=\"bottom\")"
   ]
  },
  {
   "cell_type": "code",
   "execution_count": 29,
   "id": "adjusted-prediction",
   "metadata": {},
   "outputs": [
    {
     "data": {
      "image/png": "[encoded data removed]",
      "text/plain": [
       "<Figure size 1080x504 with 1 Axes>"
      ]
     },
     "metadata": {
      "needs_background": "light"
     },
     "output_type": "display_data"
    }
   ],
   "source": [
    "bins = [0,100,200,300,400,500]\n",
    "groups = train.groupby(['Survived',pd.cut(train.Fare, bins)])\n",
    "group=groups.PassengerId.count()\n",
    "\n",
    "width=.35\n",
    "x=np.arange(5)\n",
    "fig,ax=plt.subplots(figsize=(15,7))\n",
    "rects1 = ax.bar(x - width/2, group.loc[0].values, width, label='Not Survived')\n",
    "rects2 = ax.bar(x + width/2, group.loc[1].values, width, label='Survived')\n",
    "ax.set_xticks(x)\n",
    "ax.set_xticklabels([100,200,300,400,500])\n",
    "ax.legend()\n",
    "ax.set_title('Fare vs Survival')\n",
    "for p in ax.patches:\n",
    "    h = p.get_height()\n",
    "    x = p.get_x()+p.get_width()/2\n",
    "    ax.annotate(\"%g\" % p.get_height(), xy=(x,h), xytext=(0,2),textcoords=\"offset points\", ha=\"center\", va=\"bottom\")"
   ]
  },
  {
   "cell_type": "code",
   "execution_count": 30,
   "id": "secondary-mechanism",
   "metadata": {},
   "outputs": [
    {
     "data": {
      "image/png": "[encoded data removed]",
      "text/plain": [
       "<Figure size 1080x504 with 1 Axes>"
      ]
     },
     "metadata": {
      "needs_background": "light"
     },
     "output_type": "display_data"
    }
   ],
   "source": [
    "groups = train.groupby(['Survived','Pclass'])\n",
    "group=groups.PassengerId.count()\n",
    "\n",
    "width=.35\n",
    "x=np.arange(3)\n",
    "fig,ax=plt.subplots(figsize=(15,7))\n",
    "rects1 = ax.bar(x - width/2, group.loc[0].values, width, label='Not Survived')\n",
    "rects2 = ax.bar(x + width/2, group.loc[1].values, width, label='Survived')\n",
    "ax.set_xticks(x)\n",
    "ax.set_xticklabels([1,2,3])\n",
    "ax.legend()\n",
    "ax.set_title('Pclass vs Survival')\n",
    "for p in ax.patches:\n",
    "    h = p.get_height()\n",
    "    x = p.get_x()+p.get_width()/2\n",
    "    ax.annotate(\"%g\" % p.get_height(), xy=(x,h), xytext=(0,2),textcoords=\"offset points\", ha=\"center\", va=\"bottom\")"
   ]
  },
  {
   "cell_type": "code",
   "execution_count": 31,
   "id": "mounted-israel",
   "metadata": {},
   "outputs": [
    {
     "data": {
      "image/png": "[encoded data removed]",
      "text/plain": [
       "<Figure size 1080x504 with 1 Axes>"
      ]
     },
     "metadata": {
      "needs_background": "light"
     },
     "output_type": "display_data"
    }
   ],
   "source": [
    "groups = train.groupby(['Survived','Embarked'])\n",
    "group=groups.PassengerId.count()\n",
    "\n",
    "width=.35\n",
    "x=np.arange(3)\n",
    "fig,ax=plt.subplots(figsize=(15,7))\n",
    "rects1 = ax.bar(x - width/2, group.loc[0].values, width, label='Not Survived')\n",
    "rects2 = ax.bar(x + width/2, group.loc[1].values, width, label='Survived')\n",
    "ax.set_xticks(x)\n",
    "ax.set_xticklabels(['C','Q','S'])\n",
    "ax.legend()\n",
    "for p in ax.patches:\n",
    "    h = p.get_height()\n",
    "    x = p.get_x()+p.get_width()/2\n",
    "    ax.annotate(\"%g\" % p.get_height(), xy=(x,h), xytext=(0,2),textcoords=\"offset points\", ha=\"center\", va=\"bottom\")"
   ]
  },
  {
   "cell_type": "code",
   "execution_count": 32,
   "id": "different-newton",
   "metadata": {},
   "outputs": [
    {
     "data": {
      "image/png": "[encoded data removed]",
      "text/plain": [
       "<Figure size 1080x504 with 1 Axes>"
      ]
     },
     "metadata": {
      "needs_background": "light"
     },
     "output_type": "display_data"
    }
   ],
   "source": [
    "groups = train.groupby(['Survived','familyType'])\n",
    "group=groups.PassengerId.count()\n",
    "\n",
    "width=.35\n",
    "x=np.arange(3)\n",
    "fig,ax=plt.subplots(figsize=(15,7))\n",
    "rects1 = ax.bar(x - width/2, group.loc[0].values, width, label='Not Survived')\n",
    "rects2 = ax.bar(x + width/2, group.loc[1].values, width, label='Survived')\n",
    "ax.set_xticks(x)\n",
    "ax.set_xticklabels(['Large (4+)','Single (1)','Small (4)'])\n",
    "ax.legend()\n",
    "ax.set_title('Family Type vs Survival')\n",
    "for p in ax.patches:\n",
    "    h = p.get_height()\n",
    "    x = p.get_x()+p.get_width()/2\n",
    "    ax.annotate(\"%g\" % p.get_height(), xy=(x,h), xytext=(0,2),textcoords=\"offset points\", ha=\"center\", va=\"bottom\")"
   ]
  },
  {
   "cell_type": "code",
   "execution_count": 33,
   "id": "unknown-moses",
   "metadata": {},
   "outputs": [
    {
     "data": {
      "image/png": "[encoded data removed]",
      "text/plain": [
       "<Figure size 1080x504 with 1 Axes>"
      ]
     },
     "metadata": {
      "needs_background": "light"
     },
     "output_type": "display_data"
    }
   ],
   "source": [
    "groups = train.groupby(['Survived','Title'])\n",
    "group=groups.PassengerId.count()\n",
    "\n",
    "width=.35\n",
    "x=np.arange(6)\n",
    "fig,ax=plt.subplots(figsize=(15,7))\n",
    "rects1 = ax.bar(x - width/2, group.loc[0].values, width, label='Not Survived')\n",
    "rects2 = ax.bar(x + width/2, group.loc[1].values, width, label='Survived')\n",
    "ax.set_xticks(x)\n",
    "ax.set_xticklabels(['Master', 'Miss', 'Mr', 'Mrs', 'Officer', 'Royalty'])\n",
    "ax.legend()\n",
    "ax.set_title('Title vs Survival')\n",
    "for p in ax.patches:\n",
    "    h = p.get_height()\n",
    "    x = p.get_x()+p.get_width()/2\n",
    "    ax.annotate(\"%g\" % p.get_height(), xy=(x,h), xytext=(0,2),textcoords=\"offset points\", ha=\"center\", va=\"bottom\")"
   ]
  },
  {
   "cell_type": "code",
   "execution_count": 34,
   "id": "caroline-mongolia",
   "metadata": {},
   "outputs": [
    {
     "data": {
      "text/plain": [
       "<AxesSubplot:>"
      ]
     },
     "execution_count": 34,
     "metadata": {},
     "output_type": "execute_result"
    },
    {
     "data": {
      "image/png": "[encoded data removed]",
      "text/plain": [
       "<Figure size 1080x504 with 2 Axes>"
      ]
     },
     "metadata": {
      "needs_background": "light"
     },
     "output_type": "display_data"
    }
   ],
   "source": [
    "cor_mat=train.corr()\n",
    "fig,ax=plt.subplots(figsize=(15,7))\n",
    "sns.heatmap(cor_mat,annot=True)"
   ]
  },
  {
   "cell_type": "markdown",
   "id": "immediate-spank",
   "metadata": {},
   "source": [
    "# Model Selection"
   ]
  },
  {
   "cell_type": "code",
   "execution_count": 35,
   "id": "fossil-cooperative",
   "metadata": {},
   "outputs": [],
   "source": [
    "drop=['PassengerId','Survived','Name','Ticket','LastName','fareperperson','Age_Bucket']\n",
    "x=train[[x for x in train.columns if x not in drop]]\n",
    "y=train[['Survived']]\n",
    "\n",
    "x_train,x_test,y_train,y_test=train_test_split(x,y,test_size=.3,random_state=1)"
   ]
  },
  {
   "cell_type": "code",
   "execution_count": 36,
   "id": "collaborative-coverage",
   "metadata": {},
   "outputs": [],
   "source": [
    "xx=test[[x for x in test.columns if x not in drop]]"
   ]
  },
  {
   "cell_type": "code",
   "execution_count": 37,
   "id": "better-invite",
   "metadata": {},
   "outputs": [],
   "source": [
    "ct=ColumnTransformer([('ohe',OneHotEncoder(sparse=False, handle_unknown='ignore'),\n",
    "                       ['Sex', 'Cabin', 'Embarked', 'familyType', 'Title'])],remainder='passthrough')\n"
   ]
  },
  {
   "cell_type": "code",
   "execution_count": 38,
   "id": "defined-matter",
   "metadata": {},
   "outputs": [
    {
     "data": {
      "text/html": [
       "<div>\n",
       "<style scoped>\n",
       "    .dataframe tbody tr th:only-of-type {\n",
       "        vertical-align: middle;\n",
       "    }\n",
       "\n",
       "    .dataframe tbody tr th {\n",
       "        vertical-align: top;\n",
       "    }\n",
       "\n",
       "    .dataframe thead th {\n",
       "        text-align: right;\n",
       "    }\n",
       "</style>\n",
       "<table border=\"1\" class=\"dataframe\">\n",
       "  <thead>\n",
       "    <tr style=\"text-align: right;\">\n",
       "      <th></th>\n",
       "      <th>Robust Scaler</th>\n",
       "      <th>Standard Scaler</th>\n",
       "      <th>Normalizer</th>\n",
       "      <th>Min Max Scaler</th>\n",
       "    </tr>\n",
       "  </thead>\n",
       "  <tbody>\n",
       "    <tr>\n",
       "      <th>Logistic Regression</th>\n",
       "      <td>77.12</td>\n",
       "      <td>76.69</td>\n",
       "      <td>54.05</td>\n",
       "      <td>77.00</td>\n",
       "    </tr>\n",
       "    <tr>\n",
       "      <th>LDA</th>\n",
       "      <td>77.29</td>\n",
       "      <td>77.29</td>\n",
       "      <td>73.35</td>\n",
       "      <td>77.29</td>\n",
       "    </tr>\n",
       "    <tr>\n",
       "      <th>LSVC</th>\n",
       "      <td>78.12</td>\n",
       "      <td>77.64</td>\n",
       "      <td>62.86</td>\n",
       "      <td>77.70</td>\n",
       "    </tr>\n",
       "    <tr>\n",
       "      <th>SVC</th>\n",
       "      <td>76.79</td>\n",
       "      <td>75.98</td>\n",
       "      <td>53.72</td>\n",
       "      <td>75.64</td>\n",
       "    </tr>\n",
       "    <tr>\n",
       "      <th>RFC</th>\n",
       "      <td>73.68</td>\n",
       "      <td>73.38</td>\n",
       "      <td>72.15</td>\n",
       "      <td>73.60</td>\n",
       "    </tr>\n",
       "    <tr>\n",
       "      <th>Bagging</th>\n",
       "      <td>73.75</td>\n",
       "      <td>73.87</td>\n",
       "      <td>72.95</td>\n",
       "      <td>73.68</td>\n",
       "    </tr>\n",
       "    <tr>\n",
       "      <th>Decision Tree</th>\n",
       "      <td>71.27</td>\n",
       "      <td>71.94</td>\n",
       "      <td>69.31</td>\n",
       "      <td>71.73</td>\n",
       "    </tr>\n",
       "    <tr>\n",
       "      <th>KNN</th>\n",
       "      <td>74.06</td>\n",
       "      <td>72.39</td>\n",
       "      <td>65.52</td>\n",
       "      <td>73.28</td>\n",
       "    </tr>\n",
       "    <tr>\n",
       "      <th>XGB</th>\n",
       "      <td>76.51</td>\n",
       "      <td>76.40</td>\n",
       "      <td>73.48</td>\n",
       "      <td>76.51</td>\n",
       "    </tr>\n",
       "  </tbody>\n",
       "</table>\n",
       "</div>"
      ],
      "text/plain": [
       "                     Robust Scaler  Standard Scaler  Normalizer  \\\n",
       "Logistic Regression          77.12            76.69       54.05   \n",
       "LDA                          77.29            77.29       73.35   \n",
       "LSVC                         78.12            77.64       62.86   \n",
       "SVC                          76.79            75.98       53.72   \n",
       "RFC                          73.68            73.38       72.15   \n",
       "Bagging                      73.75            73.87       72.95   \n",
       "Decision Tree                71.27            71.94       69.31   \n",
       "KNN                          74.06            72.39       65.52   \n",
       "XGB                          76.51            76.40       73.48   \n",
       "\n",
       "                     Min Max Scaler  \n",
       "Logistic Regression           77.00  \n",
       "LDA                           77.29  \n",
       "LSVC                          77.70  \n",
       "SVC                           75.64  \n",
       "RFC                           73.60  \n",
       "Bagging                       73.68  \n",
       "Decision Tree                 71.73  \n",
       "KNN                           73.28  \n",
       "XGB                           76.51  "
      ]
     },
     "execution_count": 38,
     "metadata": {},
     "output_type": "execute_result"
    }
   ],
   "source": [
    "models=[LogisticRegression(random_state=1),LinearDiscriminantAnalysis(),LinearSVC(random_state=1),SVC(random_state=1),\n",
    "        RandomForestClassifier(random_state=1),BaggingClassifier(random_state=1),\n",
    "        DecisionTreeClassifier(random_state=1),KNeighborsClassifier(),xgb.XGBClassifier()]\n",
    "scales=[RobustScaler(),StandardScaler(),Normalizer(),MinMaxScaler()]\n",
    "result=[]\n",
    "for model in models:\n",
    "    final=[]\n",
    "    for scale in scales:\n",
    "        pipe=Pipeline([('ct',ct),('scale',scale),('model',model)])\n",
    "        score=cross_val_score(estimator=pipe,X=x,y=np.array(y).ravel(),cv=5,n_jobs=-1,scoring='f1').mean()\n",
    "        final.append(round(score*100,2))\n",
    "    result.append(final)\n",
    "base_result=pd.DataFrame(result,index=['Logistic Regression','LDA','LSVC','SVC','RFC','Bagging','Decision Tree','KNN','XGB'],\n",
    "             columns=['Robust Scaler','Standard Scaler','Normalizer','Min Max Scaler'])\n",
    "base_result"
   ]
  },
  {
   "cell_type": "markdown",
   "id": "raising-programmer",
   "metadata": {},
   "source": [
    "#### Hyper Parameter Tuning "
   ]
  },
  {
   "cell_type": "code",
   "execution_count": 39,
   "id": "wooden-handling",
   "metadata": {},
   "outputs": [
    {
     "name": "stdout",
     "output_type": "stream",
     "text": [
      "0.8383654510074697\n",
      "{'model__C': 0.615848211066026, 'model__penalty': 'l2', 'model__tol': 0.1}\n"
     ]
    }
   ],
   "source": [
    "pipe=Pipeline([('ct-step',ct),('scale',RobustScaler()),('model',LinearSVC(max_iter=1000,random_state=1))])\n",
    "params={'model__tol':[0.0001,0.001,0.01,.1,.2],'model__penalty':['l1', 'l2'],'model__C' : np.logspace(-4, 4, 20)}\n",
    "grid=GridSearchCV(estimator=pipe,param_grid=params,scoring='accuracy',cv=5,n_jobs=-1).fit(x,y=np.array(y).ravel())\n",
    "print(grid.best_score_)\n",
    "print(grid.best_params_)"
   ]
  },
  {
   "cell_type": "code",
   "execution_count": 40,
   "id": "increasing-alberta",
   "metadata": {},
   "outputs": [
    {
     "data": {
      "text/html": [
       "<div>\n",
       "<style scoped>\n",
       "    .dataframe tbody tr th:only-of-type {\n",
       "        vertical-align: middle;\n",
       "    }\n",
       "\n",
       "    .dataframe tbody tr th {\n",
       "        vertical-align: top;\n",
       "    }\n",
       "\n",
       "    .dataframe thead th {\n",
       "        text-align: right;\n",
       "    }\n",
       "</style>\n",
       "<table border=\"1\" class=\"dataframe\">\n",
       "  <thead>\n",
       "    <tr style=\"text-align: right;\">\n",
       "      <th></th>\n",
       "      <th>Score</th>\n",
       "    </tr>\n",
       "  </thead>\n",
       "  <tbody>\n",
       "    <tr>\n",
       "      <th>F1 Score</th>\n",
       "      <td>0.760563</td>\n",
       "    </tr>\n",
       "    <tr>\n",
       "      <th>Precision</th>\n",
       "      <td>0.826531</td>\n",
       "    </tr>\n",
       "    <tr>\n",
       "      <th>Recall</th>\n",
       "      <td>0.704348</td>\n",
       "    </tr>\n",
       "    <tr>\n",
       "      <th>Accuracy</th>\n",
       "      <td>0.809701</td>\n",
       "    </tr>\n",
       "  </tbody>\n",
       "</table>\n",
       "</div>"
      ],
      "text/plain": [
       "              Score\n",
       "F1 Score   0.760563\n",
       "Precision  0.826531\n",
       "Recall     0.704348\n",
       "Accuracy   0.809701"
      ]
     },
     "execution_count": 40,
     "metadata": {},
     "output_type": "execute_result"
    }
   ],
   "source": [
    "pipe=Pipeline([('ct-step',ct),('scale',RobustScaler()),('model',LinearSVC(max_iter=1000,C=0.615848211066026,\n",
    "                                                                          penalty='l2',tol=0.1,random_state=1))])\n",
    "pipe.fit(x_train,np.array(y_train).ravel())\n",
    "y_pred=pipe.predict(X=x_test)\n",
    "metrics_df=pd.DataFrame(data=[metrics.f1_score(y_test,y_pred),metrics.precision_score(y_test,y_pred),\n",
    "                              metrics.recall_score(y_test,y_pred),metrics.accuracy_score(y_test,y_pred)],\n",
    "                        index=['F1 Score','Precision','Recall','Accuracy'],\n",
    "                        columns=['Score'])\n",
    "metrics_df"
   ]
  },
  {
   "cell_type": "code",
   "execution_count": 41,
   "id": "prompt-rugby",
   "metadata": {},
   "outputs": [
    {
     "data": {
      "text/plain": [
       "Text(0.5, 1.0, 'Confusion Matrix')"
      ]
     },
     "execution_count": 41,
     "metadata": {},
     "output_type": "execute_result"
    },
    {
     "data": {
      "image/png": "[encoded data removed]",
      "text/plain": [
       "<Figure size 720x360 with 3 Axes>"
      ]
     },
     "metadata": {
      "needs_background": "light"
     },
     "output_type": "display_data"
    }
   ],
   "source": [
    "fper, tper, thresholds = metrics.roc_curve(y_test, y_pred)\n",
    "fig,ax=plt.subplots(figsize=(10,5),nrows=1,ncols=2)\n",
    "ax[0].plot(fper, tper, color='orange', label='ROC')\n",
    "ax[0].plot([0, 1], [0, 1], color='darkblue', linestyle='--')\n",
    "ax[0].set_xlabel('False Positive Rate')\n",
    "ax[0].set_ylabel('True Positive Rate')\n",
    "ax[0].set_title('Receiver Operating Characteristic (ROC) Curve')\n",
    "ax[0].legend()\n",
    "metrics.plot_confusion_matrix(pipe, x_test, y_test,cmap=plt.cm.Blues, normalize = 'all',ax=ax[1])\n",
    "ax[1].set_title('Confusion Matrix')"
   ]
  },
  {
   "cell_type": "code",
   "execution_count": 42,
   "id": "completed-panel",
   "metadata": {},
   "outputs": [
    {
     "data": {
      "text/plain": [
       "array([0, 0, 0, 0, 1, 0, 1, 0, 1, 0, 0, 0, 1, 0, 1, 1, 0, 0, 0, 1, 0, 1,\n",
       "       1, 1, 1, 0, 1, 0, 0, 0, 0, 0, 1, 1, 0, 0, 1, 1, 0, 0, 0, 0, 0, 1,\n",
       "       1, 0, 0, 0, 1, 1, 0, 0, 1, 1, 0, 0, 0, 0, 0, 1, 0, 0, 0, 1, 1, 1,\n",
       "       1, 0, 0, 1, 1, 0, 1, 0, 1, 1, 0, 1, 0, 1, 1, 0, 0, 0, 0, 0, 1, 1,\n",
       "       1, 1, 1, 0, 1, 0, 0, 0, 1, 0, 1, 0, 1, 0, 0, 0, 1, 0, 0, 0, 0, 0,\n",
       "       0, 1, 1, 1, 1, 0, 0, 1, 0, 1, 1, 0, 1, 0, 0, 1, 0, 1, 0, 0, 0, 0,\n",
       "       0, 0, 0, 0, 0, 0, 1, 0, 0, 1, 0, 0, 0, 0, 0, 0, 0, 0, 1, 0, 0, 1,\n",
       "       0, 0, 1, 1, 0, 1, 1, 1, 1, 0, 0, 1, 0, 0, 1, 1, 0, 0, 0, 0, 0, 1,\n",
       "       1, 0, 1, 1, 0, 0, 1, 0, 1, 0, 1, 0, 0, 0, 0, 0, 1, 0, 1, 0, 1, 1,\n",
       "       0, 1, 1, 1, 1, 1, 0, 0, 1, 0, 1, 0, 0, 0, 0, 1, 0, 0, 1, 0, 1, 0,\n",
       "       1, 0, 1, 0, 1, 1, 0, 1, 0, 0, 0, 1, 0, 0, 0, 0, 0, 0, 1, 1, 1, 1,\n",
       "       1, 0, 1, 0, 1, 0, 1, 1, 1, 0, 1, 0, 0, 0, 0, 0, 1, 0, 0, 0, 1, 1,\n",
       "       0, 0, 0, 0, 1, 0, 0, 0, 1, 1, 0, 1, 0, 0, 0, 0, 1, 1, 1, 1, 1, 0,\n",
       "       0, 0, 0, 0, 0, 1, 0, 0, 0, 0, 1, 0, 0, 0, 0, 0, 0, 0, 1, 1, 1, 1,\n",
       "       0, 1, 0, 0, 0, 1, 1, 1, 0, 0, 0, 0, 0, 0, 0, 0, 1, 0, 1, 0, 0, 0,\n",
       "       1, 0, 0, 1, 0, 1, 0, 0, 0, 1, 0, 0, 0, 1, 1, 1, 0, 1, 0, 1, 1, 0,\n",
       "       0, 0, 1, 0, 1, 0, 0, 1, 0, 1, 1, 0, 1, 1, 0, 1, 1, 0, 0, 1, 0, 0,\n",
       "       1, 1, 1, 0, 0, 0, 0, 0, 1, 1, 0, 1, 0, 0, 0, 0, 1, 1, 1, 0, 0, 1,\n",
       "       0, 1, 0, 0, 1, 0, 1, 0, 0, 0, 0, 1, 1, 1, 1, 1, 1, 0, 1, 0, 0, 1],\n",
       "      dtype=int64)"
      ]
     },
     "execution_count": 42,
     "metadata": {},
     "output_type": "execute_result"
    }
   ],
   "source": [
    "pipe=Pipeline([('ct-step',ct),('model',LinearSVC(max_iter=1000,C=0.615848211066026,penalty='l2',tol=0.1,random_state=1))])\n",
    "pipe.fit(x,np.array(y).ravel())\n",
    "y_pred=pipe.predict(X=xx)\n",
    "y_pred"
   ]
  },
  {
   "cell_type": "code",
   "execution_count": 43,
   "id": "measured-gates",
   "metadata": {},
   "outputs": [],
   "source": [
    "submission=test.join(pd.DataFrame(y_pred,columns=['Survived']))"
   ]
  },
  {
   "cell_type": "code",
   "execution_count": 44,
   "id": "packed-pointer",
   "metadata": {},
   "outputs": [],
   "source": [
    "# submission=submission[['PassengerId','Survived']]\n",
    "# submission.to_csv('Submission.csv',index=False)"
   ]
  }
 ],
 "metadata": {
  "hide_input": false,
  "kernelspec": {
   "display_name": "Python 3",
   "language": "python",
   "name": "python3"
  },
  "language_info": {
   "codemirror_mode": {
    "name": "ipython",
    "version": 3
   },
   "file_extension": ".py",
   "mimetype": "text/x-python",
   "name": "python",
   "nbconvert_exporter": "python",
   "pygments_lexer": "ipython3",
   "version": "3.8.6"
  }
 },
 "nbformat": 4,
 "nbformat_minor": 5
}
